{
 "cells": [
  {
   "cell_type": "markdown",
   "metadata": {},
   "source": [
    "## Blockchain Overview  \n",
    "__A note for https://www.youtube.com/watch?v=qOVAbKKSH10__"
   ]
  },
  {
   "cell_type": "markdown",
   "metadata": {},
   "source": [
    "* Distributed Encrypted Database\n",
    "* Distributed Ledger technology\n",
    "* Next generation Internet\n",
    "* Tool For a Decentralized World"
   ]
  },
  {
   "cell_type": "markdown",
   "metadata": {},
   "source": [
    "### Blockchain Technology  \n",
    "* Encryption + Distribution  \n",
    "Depend on distributed consensus.  \n",
    "In order to make an entry on to the blockchain database all the computers have to agree about its state so that no one computer can make an alteration without the consensus of the others.  \n",
    "Once completed, a block goes to the blockchain and become a permenent record.  \n",
    "Chain: linear, In chronological order, Immutable.\n",
    "\n",
    "* Distributed Ledgers  \n",
    "Build trust without third party.  \n",
    "\n",
    "* Smart Contracts  \n",
    "Code stored in blcoks.  \n",
    "(input: money, output: interest rate..)\n",
    "\n",
    "* Token Economies  \n",
    "..No more banks.  \n",
    "\n",
    "_Capacity to coordinate a network of autonomous nodes towards maintaining a shared infrastructure_"
   ]
  },
  {
   "attachments": {},
   "cell_type": "markdown",
   "metadata": {},
   "source": [
    "The blcokchain is then a set of protocols and cryptographic methods that enable a network of computers to work together to securely record data within a shared open database.\n",
    "![image.png](bc1.png)"
   ]
  },
  {
   "cell_type": "markdown",
   "metadata": {},
   "source": [
    "* Blocks\n",
    "![](bc2.png)  \n",
    "For any type of documents --> hash function --> 64bit value  \n",
    "Hash function is not revertable, and the hash value can be used to verify the perivous content is not changed but you cannot recreate content with hash value (encrypted). Each block contains the hash of pervious block header.  \n",
    "_You can only write data to the database and once it is there it is very hard to change, alomost impossible. Data stored on the blockchain is generally considered incorruptible._"
   ]
  },
  {
   "cell_type": "markdown",
   "metadata": {},
   "source": [
    "* Public-Key Cryptography\n",
    "Public Key: a long string of characters and numbers (wallet)  \n",
    "Private Key: Associate with public key, use to decipher message corrsepond to public key.  \n",
    "* Network Consensus  \n",
    "The system provide a mechanism for creating consensus between scattered or distributed parties that do not need to trust each other but just need to trust the mechanism by which their consensus has arrived. (Mining-->proof of work --> broadcast to the network)  \n",
    "Proof of work describes a system that requires a not-insignificant but feasible amount of effort usually be requiring computer processing time. (solve a very hard puzzle) \n"
   ]
  },
  {
   "cell_type": "markdown",
   "metadata": {},
   "source": [
    "Blockchain 1.0: Bitcoin (Distributed Database)  \n",
    "Blockchain 2.0: Ethereum + Dapps (It provides a decentralized Turing-complete virtual machine, which can execute computer programs using an global network of nodes.)  \n",
    "Blockchain 3.0: Increase transaction per second, decrease transaction fees (validation), under developing. (main/local blockchain; network rather than chain)  "
   ]
  },
  {
   "cell_type": "markdown",
   "metadata": {},
   "source": [
    "* Decentralized Web\n",
    "What centralized organization enabled was trust, coordination and cooperation within orgainizations, but what the blockchain enables is trust, coordination and cooperation between organizations and between individuals peer-to-peer.  \n",
    "Blockchain provide shared, secured data between orginaizations (visa..)"
   ]
  },
  {
   "cell_type": "markdown",
   "metadata": {},
   "source": [
    "A distributed ledger can be described as a ledger of any transactions or contracts supported by a decentralized network from across different locations ans people, eliminating the need of a central authority. \n",
    "* Smart Contract  \n",
    "Like vending machine. Account controled by code, stored in blockchain, no one can change. (code is law).  \n",
    "* Smart property  \n",
    "Register a property to a smart contract.(shared bike..)\n",
    "Advantage: Automatic/Invorruptible/Independence/Certainty  \n",
    "\n",
    "Disadvantages: Real world unpredictable and unforeseen events, rules need to be flexible.  \n"
   ]
  },
  {
   "cell_type": "markdown",
   "metadata": {},
   "source": [
    "### Blockchian Applications"
   ]
  },
  {
   "cell_type": "markdown",
   "metadata": {},
   "source": [
    "* Ethereum\n",
    "* Blockstack\n",
    "* EOS  \n",
    "\n",
    "Application that runs on a network in a distributed fashion with participant information securely protected and operations executed in a decentralized fashion across a network of nodes. (not run on a central server)  \n"
   ]
  },
  {
   "cell_type": "code",
   "execution_count": null,
   "metadata": {},
   "outputs": [],
   "source": []
  }
 ],
 "metadata": {
  "kernelspec": {
   "display_name": "Python 3",
   "language": "python",
   "name": "python3"
  },
  "language_info": {
   "codemirror_mode": {
    "name": "ipython",
    "version": 3
   },
   "file_extension": ".py",
   "mimetype": "text/x-python",
   "name": "python",
   "nbconvert_exporter": "python",
   "pygments_lexer": "ipython3",
   "version": "3.6.5"
  }
 },
 "nbformat": 4,
 "nbformat_minor": 2
}
